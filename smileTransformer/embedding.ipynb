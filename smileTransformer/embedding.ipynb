{
 "cells": [
  {
   "cell_type": "code",
   "execution_count": 13,
   "id": "2bed4ce7",
   "metadata": {},
   "outputs": [
    {
     "name": "stdout",
     "output_type": "stream",
     "text": [
      "Total parameters: 3189805\n"
     ]
    }
   ],
   "source": [
    "import torch\n",
    "from pretrain_trfm import TrfmSeq2seq\n",
    "from pretrain_rnn import RNNSeq2Seq\n",
    "#from bert import BERT\n",
    "from build_vocab import WordVocab\n",
    "from utils import split\n",
    "\n",
    "pad_index = 0\n",
    "unk_index = 1\n",
    "eos_index = 2\n",
    "sos_index = 3\n",
    "mask_index = 4\n",
    "\n",
    "vocab = WordVocab.load_vocab('/home/yogesh/data/dnndr2/processedData/vocab_24_100.pkl')\n",
    "\n",
    "trfm = TrfmSeq2seq(len(vocab), 256, len(vocab), 3)\n",
    "#model = nn.DataParallel(model)\n",
    "trfm.load_state_dict(torch.load('/home/yogesh/projects/202107_dnndr2/.save/trfm_new_1_0.pt'), strict=False)\n",
    "trfm.eval()\n",
    "print('Total parameters:', sum(p.numel() for p in trfm.parameters()))"
   ]
  },
  {
   "cell_type": "code",
   "execution_count": 14,
   "id": "24c8f2b9",
   "metadata": {},
   "outputs": [],
   "source": [
    "import pandas as pd\n",
    "df = pd.read_csv('/home/yogesh/data/dnndr2/rawData/drug_smiles.csv')"
   ]
  },
  {
   "cell_type": "code",
   "execution_count": 21,
   "id": "7b5acd25",
   "metadata": {},
   "outputs": [
    {
     "name": "stdout",
     "output_type": "stream",
     "text": [
      "SMILES is too long (226)\n",
      "SMILES is too long (248)\n",
      "SMILES is too long (405)\n",
      "SMILES is too long (219)\n",
      "SMILES is too long (227)\n",
      "SMILES is too long (375)\n",
      "SMILES is too long (227)\n",
      "SMILES is too long (221)\n",
      "SMILES is too long (236)\n",
      "SMILES is too long (232)\n",
      "SMILES is too long (226)\n",
      "SMILES is too long (247)\n",
      "SMILES is too long (342)\n",
      "SMILES is too long (225)\n",
      "SMILES is too long (225)\n",
      "SMILES is too long (226)\n",
      "SMILES is too long (229)\n",
      "SMILES is too long (227)\n",
      "SMILES is too long (222)\n",
      "SMILES is too long (230)\n",
      "SMILES is too long (228)\n",
      "SMILES is too long (237)\n",
      "SMILES is too long (230)\n",
      "SMILES is too long (228)\n",
      "SMILES is too long (220)\n",
      "SMILES is too long (258)\n",
      "SMILES is too long (286)\n",
      "SMILES is too long (288)\n",
      "SMILES is too long (229)\n",
      "There are 30654 molecules. It will take a little time.\n",
      "(30654, 1024)\n"
     ]
    }
   ],
   "source": [
    "def get_array(smiles):\n",
    "    x_id, x_seg = [], []\n",
    "    for sm in smiles:\n",
    "        a,b = get_inputs(sm)\n",
    "        x_id.append(a)\n",
    "        x_seg.append(b)\n",
    "    return torch.tensor(x_id), torch.tensor(x_seg)\n",
    "\n",
    "def get_inputs(sm):\n",
    "    seq_len = 220\n",
    "    sm = sm.split()\n",
    "    if len(sm)>218:\n",
    "        print('SMILES is too long ({:d})'.format(len(sm)))\n",
    "        sm = sm[:109]+sm[-109:]\n",
    "    ids = [vocab.stoi.get(token, unk_index) for token in sm]\n",
    "    ids = [sos_index] + ids + [eos_index]\n",
    "    seg = [1]*len(ids)\n",
    "    padding = [pad_index]*(seq_len - len(ids))\n",
    "    ids.extend(padding), seg.extend(padding)\n",
    "    return ids, seg\n",
    "\n",
    "x_split = [split(sm) for sm in df['canonical_smiles'].values]\n",
    "xid, xseg = get_array(x_split)\n",
    "X = trfm.encode(torch.t(xid))\n",
    "print(X.shape)"
   ]
  },
  {
   "cell_type": "code",
   "execution_count": 22,
   "id": "a4035c4a",
   "metadata": {},
   "outputs": [
    {
     "data": {
      "text/plain": [
       "array([[-0.9648697 , -1.1149548 ,  0.73070174, ...,  2.2982287 ,\n",
       "        -1.3199449 ,  1.3015112 ],\n",
       "       [-0.9388767 , -1.4205409 ,  1.0319326 , ...,  2.0778277 ,\n",
       "        -1.2846612 ,  1.2787257 ],\n",
       "       [-0.89688015, -1.758795  ,  1.4770942 , ...,  2.0211818 ,\n",
       "        -1.2406851 ,  1.1257133 ],\n",
       "       ...,\n",
       "       [-1.2045133 , -0.71763146,  1.5659194 , ...,  2.4852614 ,\n",
       "        -1.3761665 ,  1.7818329 ],\n",
       "       [-0.84381795, -1.1360548 ,  1.6008846 , ...,  2.09459   ,\n",
       "        -1.4096613 ,  1.9956287 ],\n",
       "       [-0.86022496, -1.2613864 ,  1.5189482 , ...,  1.7429534 ,\n",
       "        -1.3853273 ,  2.0293925 ]], dtype=float32)"
      ]
     },
     "execution_count": 22,
     "metadata": {},
     "output_type": "execute_result"
    }
   ],
   "source": [
    "X[:10]"
   ]
  }
 ],
 "metadata": {
  "kernelspec": {
   "display_name": "Python 3 (ipykernel)",
   "language": "python",
   "name": "python3"
  },
  "language_info": {
   "codemirror_mode": {
    "name": "ipython",
    "version": 3
   },
   "file_extension": ".py",
   "mimetype": "text/x-python",
   "name": "python",
   "nbconvert_exporter": "python",
   "pygments_lexer": "ipython3",
   "version": "3.9.6"
  }
 },
 "nbformat": 4,
 "nbformat_minor": 5
}
